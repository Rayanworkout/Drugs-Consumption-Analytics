{
 "cells": [
  {
   "cell_type": "markdown",
   "metadata": {},
   "source": [
    "## What factors influence the most drug consumption of an individual ? A case study\n",
    "\n",
    "We have a database of 1885 respondents. For each, 12 attributes and their score is known. These attributes, which we'll call **features**, are based on the NEO-FFI-R personality test. This test measures the following 5 personality traits:\n",
    "- Neuroticism\n",
    "- Extraversion\n",
    "- Openness to experience\n",
    "- Agreeableness\n",
    "- Conscientiousness\n",
    "\n",
    "We also have access to the Impulsiveness and the Sensation Seeking scores of each respondent.\n",
    "\n",
    "Each personality trait has a decimal value as a score. The higher the score, the more the respondent has the corresponding personality trait. For example, a score of 0.8 for the Neuroticism trait means that the respondent is very neurotic.\n",
    "\n",
    "additionally to these 7 personality attributes, we also have access to level of education, age, gender, country of residence and ethnicity of each respondent.\n",
    "\n",
    "_Note that in certain countries, ethnicity statistics are illegal._\n",
    "\n",
    "In addition, participants were questioned concerning their use of 18 legal and illegal drugs alcohol, amphetamines, amyl nitrite, benzodiazepine, cannabis, chocolate, cocaine, caffeine, crack, ecstasy, heroin, ketamine, legal highs, LSD, methadone, mushrooms, nicotine and volatile substance abuse and one fictitious drug (Semeron) which was introduced to identify over-claimers.\n",
    "\n",
    "For each drug they had to select one of the answers: never used the drug, used it over a decade ago, or in the last decade, year, month, week, or day.\n",
    "\n",
    "\n",
    "### Things to keep in mind during this analysis:\n",
    "- The database contains ONLY 1885 respondents. This is a very small sample size compared to the world population. Therefore, the results of this analysis are **not** generalizable to the entire population.\n",
    "- We only give some observations and suppositions about the data and the results. We do not make any definitive statements.\n",
    "- Some features are not well balanced. For example most of the respondents are from the UK. This can lead to biased results."
   ]
  },
  {
   "cell_type": "markdown",
   "metadata": {},
   "source": [
    "## Where to start this analysis ?\n",
    "\n",
    "First, we need to observe the repartition of each population inside the dataset.\n",
    "\n",
    "Why ? because we need to know if the dataset is balanced or not. If a given feature is not balanced, we need to take this into account when analyzing the data.\n",
    "\n",
    "sharnalk endpoint repartition/by_population, bar chart to show the repartition of the dataset by population\n",
    "\n",
    "For example, we can see that there are 943 male respondents and 942 women. This feature is well balanced, thus the results we will get from the analysis might be more reliable.\n",
    "However, the survey was made in the UK, and the majority (1044) of the respondents are from the UK."
   ]
  },
  {
   "cell_type": "markdown",
   "metadata": {},
   "source": [
    "We found it interesting to start by analyzing the drug consumption of the respondents depending on non-personality related features.\n",
    "\n",
    "It may help us to understand how drug consumption frequency is distributed among the each feature. For example, we could ask ourselves:\n",
    "- Which age range consumes the most drugs ?\n",
    "- Which gender consumes the most drugs ?\n",
    "  \n",
    "sharnalk endpoint repartition/ bar chart to show the repartition of the dataset by age range and other features. See notebooks/repartition for more details."
   ]
  }
 ],
 "metadata": {
  "language_info": {
   "name": "python"
  }
 },
 "nbformat": 4,
 "nbformat_minor": 2
}
