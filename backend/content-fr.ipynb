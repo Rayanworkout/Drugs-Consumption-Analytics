{
 "cells": [
  {
   "cell_type": "markdown",
   "metadata": {},
   "source": [
    "Névrosisme, Extraversion, Ouverture à l’expérience, Agréabilité et Caractère consciencieux"
   ]
  }
 ],
 "metadata": {
  "language_info": {
   "name": "python"
  }
 },
 "nbformat": 4,
 "nbformat_minor": 2
}
