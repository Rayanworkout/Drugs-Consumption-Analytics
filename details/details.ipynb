{
 "cells": [
  {
   "cell_type": "markdown",
   "metadata": {},
   "source": [
    "\n",
    "## Analyse\n",
    "\n",
    "### Page 1\n",
    "\n",
    "Penser à centrer les titres tout au long de l'analyse\n",
    "\n",
    "Titre à modifier: Investigating the main factors that influence drug consumption in individuals: A case study.\n",
    "\n",
    "Il faudrait mettre un peu + de padding pour éloigner les textes des bords de l'écran.\n",
    "\n",
    "\"Impulsiveness\" et \"Sensation Seeking\" à mettre en bold.\n",
    "\n",
    "Majuscule à \"additionally\".\n",
    "\n",
    "Petit smiley panneau danger au début de cette phrase: \"Note that in certain countries, ethnicity statistics are illegal.\"\n",
    "\n",
    "Liste des drogues sous forme de tirets (comme les traits de caractère).\n",
    "\n",
    "pareil pour \"never used the drug, used it over a decade ago, or in the last decade, year, month, week, or day.\", il faudrait que ça soit + lisible, pourquoi pas 2 colonnes ?\n",
    "\n",
    "Enlever les 2 points après \"Things to keep in mind during this analysis:\"\n",
    "\n",
    "Plutôt écrire \"Previous\" que \"Prev\", et dans l'idéal ne pas le faire apparaitre sur le premier écran.\n",
    "\n",
    "Plutôt que \"skip tutorial\", \"Skip Analysis\"\" serait plus mieux."
   ]
  },
  {
   "cell_type": "markdown",
   "metadata": {},
   "source": [
    "### Page 2\n",
    "\n",
    "Quand on arrive sur la page, le graphique ne s'affiche pas. Possible de faire automatiquement afficher repartition by gender ? Comme mentionné dans la ligne suivante de l'analyse \"For example, we can see that there are 943 male respondents and 942 women.\"\n",
    "\n",
    "Quand on hover sur la barre du chart, il y a écrit \"consumption\", ce qui est incorrect car c'est une répartition.\n",
    "\n",
    "Phrase à corriger, erreur de ma part: \"Which age range consumes the most drugs Coke ?\" -> \"Which age range consumes the most Cocaine ?\""
   ]
  },
  {
   "cell_type": "markdown",
   "metadata": {},
   "source": [
    "Il faudrait créer un nouvel écran après \"We will see if these ideas are confirmed by the data.\"\n",
    "\n",
    "Il manque un graphique juste avant cette ligne \"As we can see, the meth consumption of people who left school at 16 years and those with a professional certificate / diploma are almost the same.\"\n",
    "\n",
    "\"create chart for education level and meth at the first load. When user is done, he can switch to the next step of the analysis.\""
   ]
  },
  {
   "cell_type": "markdown",
   "metadata": {},
   "source": [
    "### Page 3 (ou bientôt 4 du coup)\n",
    "\n",
    "Changer le titre du chart: \"Correlation between personality and consumption of each drug\"\n",
    "\n",
    "Arrondir les valeurs numériques\n",
    "\n",
    "Mettre des noms capitalisés en x et y, sans tiret \"sensation_seeking\" -> \"Sensation Seeking\"\n",
    "\n",
    "Après cette phrase: \"This helps understand which personality trait is correlated or not to the use of a specific drug.\", écrire \"When you're done observing correlations, you can carry on to the next step.\""
   ]
  },
  {
   "cell_type": "markdown",
   "metadata": {},
   "source": [
    "### Page 4\n",
    "\n",
    "Ceci doit apparaître mettre si l'user ne clique pas sur show me the code\n",
    "\n",
    "Bouton show me the code juste en dessous l'output de préférence\n",
    "\n",
    "```('Cannabis', 'SS', 0.45613655450406493)\n",
    "('Cannabis', 'Oscore', 0.41416262189358455)\n",
    "('Legalh', 'SS', 0.4055778552531838)\n",
    "('Ecstasy', 'SS', 0.38818619655992304)\n",
    "('Mushrooms', 'SS', 0.3782853777625287)\n",
    "('LSD', 'Oscore', 0.36975911051910304)\n",
    "('Mushrooms', 'Oscore', 0.36913941481128937)\n",
    "('LSD', 'SS', 0.36553577743377336)\n",
    "('Coke', 'SS', 0.3433520664032049)\n",
    "('Amphet', 'SS', 0.33110522351156163)\n",
    "('Legalh', 'Oscore', 0.31732226610206776)\n",
    "('Cannabis', 'Impulsive', 0.3105287456498304)```\n",
    "\n",
    "Pour afficher du code en html, utilise la balise <code>...</code> ou <pre>...</pre>\n",
    "\n",
    "Rendre cette phrase + lisible: \"We can witness that the 20 highest correlations are not about age, country or ethnicity, but only about characteristics of the person.\"\n",
    "\n",
    "Plutôt que \"start qcm\", pourquoi pas écrire la question et jsute en dessous mettre les 3 réponses possibles (radio button), avec un petit bouton \"submit\" ?\n",
    "\n",
    "question QCM: \"How can we determine which feature has the highest correlation with drug consumption using this output ?\"\n",
    "\n",
    "Rendre la question + lisible (bold ?)\n",
    "\n",
    "Choix QCM:\n",
    "\n",
    "- Sum all the values of the same drug\n",
    "- Compute the mean for each personality trait\n",
    "- Look at the highest value for each"
   ]
  },
  {
   "cell_type": "markdown",
   "metadata": {},
   "source": [
    "### Page 5\n",
    "\n",
    "Ce résultat doit apparaître même si l'user ne clique pas sur show me the code\n",
    "```SS --> 0.24750768760730996\n",
    "Impulsive --> 0.1835408142616583\n",
    "Oscore --> 0.18211357240362108\n",
    "Nscore --> 0.09115772430291505\n",
    "Ethnicity --> 0.07279538563388822\n",
    "Escore --> -0.005960554225981149\n",
    "Ascore --> -0.10339419036206977\n",
    "Education --> -0.11093035147121946\n",
    "Cscore --> -0.1526333011851522```\n",
    "\n",
    "Le bouton \"?\" à mettre sur la même ligne que \"This is the highest mean correlation.\" si possible.\n",
    "\n",
    "Et l'espace est un peu chelou quand on clique pas dessus\n",
    "\n",
    "### Page 6\n",
    "\n",
    "Supprimer le bouton next\n",
    "\n",
    "bouton skip tutorial qui devient \"close tutorial\" possible ?\n",
    "\n",
    "Possible de faire apparaître les chiffres danschaque barre du graphique ?"
   ]
  },
  {
   "cell_type": "markdown",
   "metadata": {},
   "source": [
    "Penser à ajouter le lien du github"
   ]
  },
  {
   "cell_type": "markdown",
   "metadata": {},
   "source": [
    "## DASHBOARD\n",
    "\n",
    "Input field + court ?"
   ]
  }
 ],
 "metadata": {
  "language_info": {
   "name": "python"
  }
 },
 "nbformat": 4,
 "nbformat_minor": 2
}
