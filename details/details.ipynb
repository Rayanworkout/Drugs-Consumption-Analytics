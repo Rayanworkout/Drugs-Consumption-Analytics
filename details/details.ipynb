{
 "cells": [
  {
   "cell_type": "markdown",
   "metadata": {},
   "source": [
    "Choses à revoir, avec captures d'écran pour + de clarté.\n",
    "## Analyse\n",
    "\n",
    "Titre à modifier: Investigating the main factors that influence drug consumption in individuals: A case study.\n",
    "\n",
    "\"Impulsiveness\" et \"Sensation Seeking\" à mettre en bold.\n",
    "\n",
    "Majuscule à \"additionally\".\n",
    "\n",
    "Petit smiley panneau danger au début de cette phrase: \"Note that in certain countries, ethnicity statistics are illegal.\"\n",
    "\n",
    "Liste des drogues sous forme de tirets"
   ]
  }
 ],
 "metadata": {
  "language_info": {
   "name": "python"
  }
 },
 "nbformat": 4,
 "nbformat_minor": 2
}
