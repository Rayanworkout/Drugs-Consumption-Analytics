{
 "cells": [
  {
   "cell_type": "markdown",
   "metadata": {},
   "source": [
    "Choses à revoir, avec captures d'écran pour + de clarté.\n",
    "\n",
    "## Analyse\n",
    "\n",
    "### Page 1\n",
    "\n",
    "Titre à modifier: Investigating the main factors that influence drug consumption in individuals: A case study.\n",
    "\n",
    "Il faudrait mettre un peu + de padding pour éloigner les textes des bords de l'écran.\n",
    "\n",
    "\"Impulsiveness\" et \"Sensation Seeking\" à mettre en bold.\n",
    "\n",
    "Majuscule à \"additionally\".\n",
    "\n",
    "Petit smiley panneau danger au début de cette phrase: \"Note that in certain countries, ethnicity statistics are illegal.\"\n",
    "\n",
    "Liste des drogues sous forme de tirets (comme les traits de caractère).\n",
    "\n",
    "pareil pour \"never used the drug, used it over a decade ago, or in the last decade, year, month, week, or day.\", il faudrait que ça soit + lisible, pourquoi pas 2 colonnes ?\n",
    "\n",
    "Enlever les 2 points après \"Things to keep in mind during this analysis:\"\n",
    "\n",
    "Plutôt écrire \"Previous\" que \"Prev\", et dans l'idéal ne pas le faire apparaitre sur le premier écran.\n",
    "\n",
    "Plutôt que \"skip tutorial\", \"Skip Analysis\"\" serait plus mieux."
   ]
  },
  {
   "cell_type": "markdown",
   "metadata": {},
   "source": [
    "### Page 2\n",
    "\n",
    "Quand on arrive sur la page, le graphique ne s'affiche pas. Possible de faire automatiquement afficher repartition by gender ? Comme mentionné dans la ligne suivante de l'analyse \"For example, we can see that there are 943 male respondents and 942 women.\"\n",
    "\n",
    "Quand on hover sur la barre du chart, il y a écrit \"consumption\", ce qui est incorrect car c'est une répartition.\n",
    "\n",
    "Phrase à corriger, erreur de ma part: \"Which age range consumes the most drugs Coke ?\" -> \"Which age range consumes the most Cocaine ?\""
   ]
  },
  {
   "cell_type": "markdown",
   "metadata": {},
   "source": [
    "Il faudrait créer un nouvel écran après \"We will see if these ideas are confirmed by the data.\"\n",
    "\n",
    "Il manque un graphique juste avant cette ligne \"As we can see, the meth consumption of people who left school at 16 years and those with a professional certificate / diploma are almost the same.\"\n",
    "\n",
    "\"create chart for education level and meth at the first load. When user is done, he can switch to the next step of the analysis.\""
   ]
  },
  {
   "cell_type": "markdown",
   "metadata": {},
   "source": [
    "### Page 3 (ou bientôt 4 du coup)\n",
    "\n",
    "Changer le titre du chart: \"Correlation between personality and consumption of each drug\"\n",
    "\n",
    "Arrondir les valeurs numériques\n",
    "\n",
    "Mettre des noms capitalisés en x et y, sans tiret \"sensation_seeking\" -> \"Sensation Seeking\""
   ]
  }
 ],
 "metadata": {
  "language_info": {
   "name": "python"
  }
 },
 "nbformat": 4,
 "nbformat_minor": 2
}
